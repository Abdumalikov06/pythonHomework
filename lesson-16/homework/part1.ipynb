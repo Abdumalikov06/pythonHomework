{
 "cells": [
  {
   "cell_type": "code",
   "execution_count": 1,
   "metadata": {},
   "outputs": [
    {
     "name": "stdout",
     "output_type": "stream",
     "text": [
      "   CustomerId  FirstName     LastName  \\\n",
      "0           1       Luís    Gonçalves   \n",
      "1           2     Leonie       Köhler   \n",
      "2           3   François     Tremblay   \n",
      "3           4      Bjørn       Hansen   \n",
      "4           5  František  Wichterlová   \n",
      "5           6     Helena         Holý   \n",
      "6           7     Astrid       Gruber   \n",
      "7           8       Daan      Peeters   \n",
      "8           9       Kara      Nielsen   \n",
      "9          10    Eduardo      Martins   \n",
      "\n",
      "                                            Company  \\\n",
      "0  Embraer - Empresa Brasileira de Aeronáutica S.A.   \n",
      "1                                              None   \n",
      "2                                              None   \n",
      "3                                              None   \n",
      "4                                  JetBrains s.r.o.   \n",
      "5                                              None   \n",
      "6                                              None   \n",
      "7                                              None   \n",
      "8                                              None   \n",
      "9                                  Woodstock Discos   \n",
      "\n",
      "                                Address                 City State  \\\n",
      "0       Av. Brigadeiro Faria Lima, 2170  São José dos Campos    SP   \n",
      "1               Theodor-Heuss-Straße 34            Stuttgart  None   \n",
      "2                     1498 rue Bélanger             Montréal    QC   \n",
      "3                      Ullevålsveien 14                 Oslo  None   \n",
      "4                         Klanova 9/506               Prague  None   \n",
      "5                         Rilská 3174/6               Prague  None   \n",
      "6  Rotenturmstraße 4, 1010 Innere Stadt               Vienne  None   \n",
      "7                       Grétrystraat 63             Brussels  None   \n",
      "8                   Sønder Boulevard 51           Copenhagen  None   \n",
      "9             Rua Dr. Falcão Filho, 155            São Paulo    SP   \n",
      "\n",
      "          Country PostalCode               Phone                 Fax  \\\n",
      "0          Brazil  12227-000  +55 (12) 3923-5555  +55 (12) 3923-5566   \n",
      "1         Germany      70174    +49 0711 2842222                None   \n",
      "2          Canada    H2G 1A7   +1 (514) 721-4711                None   \n",
      "3          Norway       0171     +47 22 44 22 22                None   \n",
      "4  Czech Republic      14700    +420 2 4172 5555    +420 2 4172 5555   \n",
      "5  Czech Republic      14300    +420 2 4177 0449                None   \n",
      "6         Austria       1010      +43 01 5134505                None   \n",
      "7         Belgium       1000    +32 02 219 03 03                None   \n",
      "8         Denmark       1720      +453 3331 9991                None   \n",
      "9          Brazil  01007-010  +55 (11) 3033-5446  +55 (11) 3033-4564   \n",
      "\n",
      "                      Email  SupportRepId  \n",
      "0      luisg@embraer.com.br             3  \n",
      "1     leonekohler@surfeu.de             5  \n",
      "2       ftremblay@gmail.com             3  \n",
      "3     bjorn.hansen@yahoo.no             4  \n",
      "4  frantisekw@jetbrains.com             4  \n",
      "5           hholy@gmail.com             5  \n",
      "6    astrid.gruber@apple.at             5  \n",
      "7     daan_peeters@apple.be             4  \n",
      "8     kara.nielsen@jubii.dk             4  \n",
      "9  eduardo@woodstock.com.br             4  \n"
     ]
    }
   ],
   "source": [
    "import pandas as pd\n",
    "import sqlite3\n",
    "with sqlite3.connect('data/chinook.db') as con:\n",
    "    query='SELECT * FROM customers'\n",
    "\n",
    "    df=pd.read_sql(query,con)\n",
    "    \n",
    "print(df.head(10))"
   ]
  },
  {
   "cell_type": "code",
   "execution_count": 5,
   "metadata": {},
   "outputs": [
    {
     "name": "stdout",
     "output_type": "stream",
     "text": [
      "(150, 5)\n"
     ]
    }
   ],
   "source": [
    "import json\n",
    "with open('data/iris.json','r',encoding='utf8') as file:\n",
    "    data=json.load(file)\n",
    "\n",
    "    df_iris=pd.DataFrame(data)\n",
    "print(df_iris.shape)"
   ]
  },
  {
   "cell_type": "code",
   "execution_count": 11,
   "metadata": {},
   "outputs": [
    {
     "name": "stdout",
     "output_type": "stream",
     "text": [
      "   PassengerId  Survived  Pclass  \\\n",
      "0            1         0       3   \n",
      "1            2         1       1   \n",
      "2            3         1       3   \n",
      "3            4         1       1   \n",
      "4            5         0       3   \n",
      "\n",
      "                                                Name     Sex   Age  SibSp  \\\n",
      "0                            Braund, Mr. Owen Harris    male  22.0      1   \n",
      "1  Cumings, Mrs. John Bradley (Florence Briggs Th...  female  38.0      1   \n",
      "2                             Heikkinen, Miss. Laina  female  26.0      0   \n",
      "3       Futrelle, Mrs. Jacques Heath (Lily May Peel)  female  35.0      1   \n",
      "4                           Allen, Mr. William Henry    male  35.0      0   \n",
      "\n",
      "   Parch            Ticket     Fare Cabin Embarked  \n",
      "0      0         A/5 21171   7.2500   NaN        S  \n",
      "1      0          PC 17599  71.2833   C85        C  \n",
      "2      0  STON/O2. 3101282   7.9250   NaN        S  \n",
      "3      0            113803  53.1000  C123        S  \n",
      "4      0            373450   8.0500   NaN        S  \n"
     ]
    }
   ],
   "source": [
    "df = pd.read_excel('data/titanic.xlsx')\n",
    "\n",
    "print(df.head())\n"
   ]
  },
  {
   "cell_type": "code",
   "execution_count": 12,
   "metadata": {},
   "outputs": [
    {
     "name": "stdout",
     "output_type": "stream",
     "text": [
      "   PassengerId  Survived  Pclass  \\\n",
      "0            1         0       3   \n",
      "1            2         1       1   \n",
      "2            3         1       3   \n",
      "3            4         1       1   \n",
      "4            5         0       3   \n",
      "\n",
      "                                                Name     Sex   Age  SibSp  \\\n",
      "0                            Braund, Mr. Owen Harris    male  22.0      1   \n",
      "1  Cumings, Mrs. John Bradley (Florence Briggs Th...  female  38.0      1   \n",
      "2                             Heikkinen, Miss. Laina  female  26.0      0   \n",
      "3       Futrelle, Mrs. Jacques Heath (Lily May Peel)  female  35.0      1   \n",
      "4                           Allen, Mr. William Henry    male  35.0      0   \n",
      "\n",
      "   Parch            Ticket     Fare Cabin Embarked  \n",
      "0      0         A/5 21171   7.2500   NaN        S  \n",
      "1      0          PC 17599  71.2833   C85        C  \n",
      "2      0  STON/O2. 3101282   7.9250   NaN        S  \n",
      "3      0            113803  53.1000  C123        S  \n",
      "4      0            373450   8.0500   NaN        S  \n"
     ]
    }
   ],
   "source": [
    "df_parqut=pd.read_parquet('data/flights')\n",
    "print(df.head())"
   ]
  },
  {
   "cell_type": "code",
   "execution_count": 12,
   "metadata": {},
   "outputs": [
    {
     "name": "stdout",
     "output_type": "stream",
     "text": [
      "         0               1      2      3      4      5                6   \\\n",
      "3151  Color    Ariel Vromen  221.0  106.0   34.0  683.0     James Franco   \n",
      "4287  Color      Todd Field  179.0  138.0  143.0  783.0     Sissy Spacek   \n",
      "616   Color  Mikael Salomon   79.0   97.0   13.0  695.0    Minnie Driver   \n",
      "2138  Color  Jeannot Szwarc   75.0  131.0   82.0   85.0  Murray Hamilton   \n",
      "464   Color  Richard Donner   80.0  135.0  503.0   67.0    Alex McArthur   \n",
      "\n",
      "           7            8                                      9   ...     18  \\\n",
      "3151  11000.0    1939441.0                  Biography|Crime|Drama  ...  144.0   \n",
      "4287   1000.0   35918429.0                            Crime|Drama  ...  510.0   \n",
      "616   11000.0   19819494.0            Action|Crime|Drama|Thriller  ...  126.0   \n",
      "2138    813.0  102922376.0              Adventure|Horror|Thriller  ...  265.0   \n",
      "464    8000.0   76081498.0  Action|Crime|Mystery|Romance|Thriller  ...  162.0   \n",
      "\n",
      "           19   20  21          22      23       24   25    26     27  \n",
      "3151  English  USA   R  10000000.0  2012.0  11000.0  6.9  1.85  20000  \n",
      "4287  English  USA   R   1700000.0  2001.0    874.0  7.5  2.35    951  \n",
      "616   English  USA   R  70000000.0  1998.0    893.0  5.8  2.35    815  \n",
      "2138  English  USA  PG  20000000.0  1978.0    366.0  5.7  2.35      0  \n",
      "464   English  USA   R  75000000.0  1997.0    137.0  6.7  2.35      0  \n",
      "\n",
      "[5 rows x 28 columns]\n"
     ]
    }
   ],
   "source": [
    "import csv\n",
    "\n",
    "\n",
    "with open('data/movie.csv', 'r',encoding='utf8') as file:\n",
    "    reader=csv.reader(file)\n",
    "    data=list(reader)\n",
    "\n",
    "df_csv=pd.DataFrame(data)\n",
    "print(df_csv.sample(5))"
   ]
  }
 ],
 "metadata": {
  "kernelspec": {
   "display_name": "Python 3",
   "language": "python",
   "name": "python3"
  },
  "language_info": {
   "codemirror_mode": {
    "name": "ipython",
    "version": 3
   },
   "file_extension": ".py",
   "mimetype": "text/x-python",
   "name": "python",
   "nbconvert_exporter": "python",
   "pygments_lexer": "ipython3",
   "version": "3.13.2"
  }
 },
 "nbformat": 4,
 "nbformat_minor": 2
}
