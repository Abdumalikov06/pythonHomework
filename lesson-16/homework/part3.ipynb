{
 "cells": [
  {
   "cell_type": "code",
   "execution_count": 13,
   "metadata": {},
   "outputs": [
    {
     "name": "stdout",
     "output_type": "stream",
     "text": [
      "mean is:\n",
      " sepalLength    5.843333\n",
      "sepalWidth     3.057333\n",
      "petalLength    3.758000\n",
      "petalWidth     1.199333\n",
      "dtype: float64\n",
      "median is:\n",
      " sepalLength    5.80\n",
      "sepalWidth     3.00\n",
      "petalLength    4.35\n",
      "petalWidth     1.30\n",
      "dtype: float64\n",
      "standart deviation is:\n",
      " sepalLength    0.828066\n",
      "sepalWidth     0.435866\n",
      "petalLength    1.765298\n",
      "petalWidth     0.762238\n",
      "dtype: float64\n"
     ]
    }
   ],
   "source": [
    "import pandas as pd\n",
    "import json\n",
    "with open('data/iris.json','r',encoding='utf8') as file:\n",
    "    load=json.load(file)\n",
    "    def_iris=pd.DataFrame(load)\n",
    "\n",
    "def_iris=def_iris[['sepalLength','sepalWidth',\"petalLength\",'petalWidth']]\n",
    "print('mean is:\\n',def_iris.mean())\n",
    "print('median is:\\n',def_iris.median())\n",
    "print('standart deviation is:\\n',def_iris.std())"
   ]
  },
  {
   "cell_type": "code",
   "execution_count": 17,
   "metadata": {},
   "outputs": [
    {
     "name": "stdout",
     "output_type": "stream",
     "text": [
      "minimum is:\n",
      "PassengerId    1.00\n",
      "Survived       0.00\n",
      "Pclass         1.00\n",
      "Age            0.42\n",
      "SibSp          0.00\n",
      "Parch          0.00\n",
      "Fare           0.00\n",
      "dtype: float64\n",
      "maximum is:\n",
      "PassengerId    891.0000\n",
      "Survived         1.0000\n",
      "Pclass           3.0000\n",
      "Age             80.0000\n",
      "SibSp            8.0000\n",
      "Parch            6.0000\n",
      "Fare           512.3292\n",
      "dtype: float64\n",
      "sum is:\n",
      "PassengerId    397386.0000\n",
      "Survived          342.0000\n",
      "Pclass           2057.0000\n",
      "Age             21205.1700\n",
      "SibSp             466.0000\n",
      "Parch             340.0000\n",
      "Fare            28693.9493\n",
      "dtype: float64\n"
     ]
    }
   ],
   "source": [
    "df_titanic=pd.read_excel('data/titanic.xlsx')\n",
    "df_numeric = df_titanic.select_dtypes(include=['number'])\n",
    "print(f\"minimum is:\\n{df_numeric.min()}\")\n",
    "print(f\"maximum is:\\n{df_numeric.max()}\")\n",
    "print(f\"sum is:\\n{df_numeric.sum()}\")"
   ]
  },
  {
   "cell_type": "code",
   "execution_count": null,
   "metadata": {},
   "outputs": [],
   "source": [
    "\n"
   ]
  }
 ],
 "metadata": {
  "kernelspec": {
   "display_name": "Python 3",
   "language": "python",
   "name": "python3"
  },
  "language_info": {
   "codemirror_mode": {
    "name": "ipython",
    "version": 3
   },
   "file_extension": ".py",
   "mimetype": "text/x-python",
   "name": "python",
   "nbconvert_exporter": "python",
   "pygments_lexer": "ipython3",
   "version": "3.13.2"
  }
 },
 "nbformat": 4,
 "nbformat_minor": 2
}
